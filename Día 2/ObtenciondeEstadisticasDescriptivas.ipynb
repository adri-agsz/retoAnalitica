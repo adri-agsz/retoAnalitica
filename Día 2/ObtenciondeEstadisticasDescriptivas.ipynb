{
 "cells": [
  {
   "cell_type": "markdown",
   "id": "91823881",
   "metadata": {},
   "source": [
    "### Obtención de estadísticas descriptivas\n",
    "\n",
    "#### 1. Carga los datos usando tu lector de csv o con pandas. Es recomendable hacerlo con pandas"
   ]
  },
  {
   "cell_type": "code",
   "execution_count": 60,
   "id": "857694bf",
   "metadata": {},
   "outputs": [
    {
     "data": {
      "text/html": [
       "<div>\n",
       "<style scoped>\n",
       "    .dataframe tbody tr th:only-of-type {\n",
       "        vertical-align: middle;\n",
       "    }\n",
       "\n",
       "    .dataframe tbody tr th {\n",
       "        vertical-align: top;\n",
       "    }\n",
       "\n",
       "    .dataframe thead th {\n",
       "        text-align: right;\n",
       "    }\n",
       "</style>\n",
       "<table border=\"1\" class=\"dataframe\">\n",
       "  <thead>\n",
       "    <tr style=\"text-align: right;\">\n",
       "      <th></th>\n",
       "      <th>user_name</th>\n",
       "      <th>user_location</th>\n",
       "      <th>user_description</th>\n",
       "      <th>user_created</th>\n",
       "      <th>user_followers</th>\n",
       "      <th>user_friends</th>\n",
       "      <th>user_favourites</th>\n",
       "      <th>user_verified</th>\n",
       "      <th>date</th>\n",
       "      <th>text</th>\n",
       "      <th>hashtags</th>\n",
       "      <th>source</th>\n",
       "      <th>is_retweet</th>\n",
       "    </tr>\n",
       "  </thead>\n",
       "  <tbody>\n",
       "    <tr>\n",
       "      <th>0</th>\n",
       "      <td>ᏉᎥ☻լꂅϮ</td>\n",
       "      <td>astroworld</td>\n",
       "      <td>wednesday addams as a disney princess keepin i...</td>\n",
       "      <td>2017-05-26 05:46:42</td>\n",
       "      <td>624</td>\n",
       "      <td>950</td>\n",
       "      <td>18775</td>\n",
       "      <td>False</td>\n",
       "      <td>2020-07-25 12:27:21</td>\n",
       "      <td>If I smelled the scent of hand sanitizers toda...</td>\n",
       "      <td>NaN</td>\n",
       "      <td>Twitter for iPhone</td>\n",
       "      <td>False</td>\n",
       "    </tr>\n",
       "    <tr>\n",
       "      <th>1</th>\n",
       "      <td>Tom Basile 🇺🇸</td>\n",
       "      <td>New York, NY</td>\n",
       "      <td>Husband, Father, Columnist &amp; Commentator. Auth...</td>\n",
       "      <td>2009-04-16 20:06:23</td>\n",
       "      <td>2253</td>\n",
       "      <td>1677</td>\n",
       "      <td>24</td>\n",
       "      <td>True</td>\n",
       "      <td>2020-07-25 12:27:17</td>\n",
       "      <td>Hey @Yankees @YankeesPR and @MLB - wouldn't it...</td>\n",
       "      <td>NaN</td>\n",
       "      <td>Twitter for Android</td>\n",
       "      <td>False</td>\n",
       "    </tr>\n",
       "    <tr>\n",
       "      <th>2</th>\n",
       "      <td>Time4fisticuffs</td>\n",
       "      <td>Pewee Valley, KY</td>\n",
       "      <td>#Christian #Catholic #Conservative #Reagan #Re...</td>\n",
       "      <td>2009-02-28 18:57:41</td>\n",
       "      <td>9275</td>\n",
       "      <td>9525</td>\n",
       "      <td>7254</td>\n",
       "      <td>False</td>\n",
       "      <td>2020-07-25 12:27:14</td>\n",
       "      <td>@diane3443 @wdunlap @realDonaldTrump Trump nev...</td>\n",
       "      <td>['COVID19']</td>\n",
       "      <td>Twitter for Android</td>\n",
       "      <td>False</td>\n",
       "    </tr>\n",
       "    <tr>\n",
       "      <th>3</th>\n",
       "      <td>ethel mertz</td>\n",
       "      <td>Stuck in the Middle</td>\n",
       "      <td>#Browns #Indians #ClevelandProud #[]_[] #Cavs ...</td>\n",
       "      <td>2019-03-07 01:45:06</td>\n",
       "      <td>197</td>\n",
       "      <td>987</td>\n",
       "      <td>1488</td>\n",
       "      <td>False</td>\n",
       "      <td>2020-07-25 12:27:10</td>\n",
       "      <td>@brookbanktv The one gift #COVID19 has give me...</td>\n",
       "      <td>['COVID19']</td>\n",
       "      <td>Twitter for iPhone</td>\n",
       "      <td>False</td>\n",
       "    </tr>\n",
       "  </tbody>\n",
       "</table>\n",
       "</div>"
      ],
      "text/plain": [
       "         user_name         user_location  \\\n",
       "0           ᏉᎥ☻լꂅϮ            astroworld   \n",
       "1    Tom Basile 🇺🇸          New York, NY   \n",
       "2  Time4fisticuffs      Pewee Valley, KY   \n",
       "3      ethel mertz  Stuck in the Middle    \n",
       "\n",
       "                                    user_description         user_created  \\\n",
       "0  wednesday addams as a disney princess keepin i...  2017-05-26 05:46:42   \n",
       "1  Husband, Father, Columnist & Commentator. Auth...  2009-04-16 20:06:23   \n",
       "2  #Christian #Catholic #Conservative #Reagan #Re...  2009-02-28 18:57:41   \n",
       "3  #Browns #Indians #ClevelandProud #[]_[] #Cavs ...  2019-03-07 01:45:06   \n",
       "\n",
       "   user_followers  user_friends  user_favourites  user_verified  \\\n",
       "0             624           950            18775          False   \n",
       "1            2253          1677               24           True   \n",
       "2            9275          9525             7254          False   \n",
       "3             197           987             1488          False   \n",
       "\n",
       "                  date                                               text  \\\n",
       "0  2020-07-25 12:27:21  If I smelled the scent of hand sanitizers toda...   \n",
       "1  2020-07-25 12:27:17  Hey @Yankees @YankeesPR and @MLB - wouldn't it...   \n",
       "2  2020-07-25 12:27:14  @diane3443 @wdunlap @realDonaldTrump Trump nev...   \n",
       "3  2020-07-25 12:27:10  @brookbanktv The one gift #COVID19 has give me...   \n",
       "\n",
       "      hashtags               source  is_retweet  \n",
       "0          NaN   Twitter for iPhone       False  \n",
       "1          NaN  Twitter for Android       False  \n",
       "2  ['COVID19']  Twitter for Android       False  \n",
       "3  ['COVID19']   Twitter for iPhone       False  "
      ]
     },
     "execution_count": 60,
     "metadata": {},
     "output_type": "execute_result"
    }
   ],
   "source": [
    "\n",
    "import pandas as pd\n",
    "\n",
    "data = pd.read_csv(\"covid19_tweets.csv\")\n",
    "data.head(n = 4)\n",
    "\n"
   ]
  },
  {
   "cell_type": "markdown",
   "id": "9de09445",
   "metadata": {},
   "source": []
  },
  {
   "cell_type": "markdown",
   "id": "0bb98b14",
   "metadata": {},
   "source": [
    "#### 2.Verifica la cantidad de datos que tienes, las variables que contiene cada vector de datos e identifica el tipo de variables."
   ]
  },
  {
   "cell_type": "code",
   "execution_count": 64,
   "id": "83b92aa5",
   "metadata": {},
   "outputs": [
    {
     "name": "stdout",
     "output_type": "stream",
     "text": [
      "Cantidad de datos: \n",
      "967668\n",
      "\n",
      "Tipo de variables: \n",
      "user_name           object\n",
      "user_location       object\n",
      "user_description    object\n",
      "user_created        object\n",
      "user_followers       int64\n",
      "user_friends         int64\n",
      "user_favourites      int64\n",
      "user_verified         bool\n",
      "date                object\n",
      "text                object\n",
      "hashtags            object\n",
      "source              object\n",
      "is_retweet            bool\n",
      "dtype: object\n"
     ]
    }
   ],
   "source": [
    "#cantidad de objetos\n",
    "print(\"Cantidad de datos: \")\n",
    "print(len(data.index)*(len(data.columns)))\n",
    "\n",
    "print(\"\\nTipo de variables: \")\n",
    "# tipo de variables\n",
    "print(data.dtypes)"
   ]
  },
  {
   "cell_type": "markdown",
   "id": "e4a4f578",
   "metadata": {},
   "source": [
    "#### 3. Analiza las variables para saber qué representa cada una y en qué rangos se encuentran. Si la descripción del problema no te lo indica, utiliza el máximo y el mínimo para encontrarlo.\n",
    "\n",
    "Todos los datos de este dataframe son relacionados a tweets. Tres de ellos son sujetos a ser analizados con números, a saber, user_name(nombre del usuario que tuiteó), user_friends(el número de personas que seguida y user_favourites (número de tweets a los que el usuario ha dado me gusta). Los demás significan:\n",
    "\n",
    "user_location: lugar dónde se escribió el tuit\n",
    "\n",
    "user_description: la biografía en el perfil del usuario\n",
    "\n",
    "user_verified: indica si el usuario es una figura conocida\n",
    "\n",
    "date: fecha en la que se publicó el tuit\n",
    "\n",
    "text: el contenido del tuit\n",
    "\n",
    "user_created: indica cuando el usuario creó su cuenta\n",
    "\n",
    "hashtags: la lista de hashtags utilizados\n",
    "\n",
    "source: de qué dispositivo se envió el tuit\n",
    "\n",
    "is_retweet: indica si el tuit es original o un retweet\n",
    "\n",
    "Para las tres variables sujetas a ser analizadas, con la function df.describe() se obtuvo el número total de datos, la media, la desviación estandar, su valor máximo y mínimo. Se utilizó la función df.median() para obtener la mediana de estos datos. Asímismo, se hizo una gráfica para poder visualizar estos datos más facilmente:"
   ]
  },
  {
   "cell_type": "code",
   "execution_count": 65,
   "id": "73618ed7",
   "metadata": {},
   "outputs": [
    {
     "name": "stdout",
     "output_type": "stream",
     "text": [
      "       user_followers  user_friends  user_favourites\n",
      "count    74436.000000  74436.000000     74436.000000\n",
      "mean    105951.312913   2154.721170     15297.472030\n",
      "std     822289.985493   9365.587474     46689.714291\n",
      "min          0.000000      0.000000         0.000000\n",
      "25%        166.000000    153.000000       220.000000\n",
      "50%        960.000000    552.000000      1927.000000\n",
      "75%       5148.000000   1780.250000     10148.000000\n",
      "max   13892841.000000 497363.000000   2047197.000000\n",
      "\n",
      "Mediana: \n",
      "user_followers     960.000000\n",
      "user_friends       552.000000\n",
      "user_favourites   1927.000000\n",
      "dtype: float64\n"
     ]
    }
   ],
   "source": [
    "pd.set_option('float_format', '{:f}'.format)\n",
    "print(data.describe())\n",
    "data_int = data.select_dtypes(include = ['int'])\n",
    "print(\"\")\n",
    "print(\"Mediana: \")\n",
    "print(data_int.median())"
   ]
  },
  {
   "cell_type": "code",
   "execution_count": 66,
   "id": "44f962af",
   "metadata": {},
   "outputs": [
    {
     "name": "stdout",
     "output_type": "stream",
     "text": [
      "       user_followers  user_friends  user_favourites\n",
      "0                 624           950            18775\n",
      "1                2253          1677               24\n",
      "2                9275          9525             7254\n",
      "3                 197           987             1488\n",
      "4              101009           168              101\n",
      "...               ...           ...              ...\n",
      "74431              85           586             1902\n",
      "74432            4289          1066            53569\n",
      "74433            1413           102               16\n",
      "74434            2554          1733           129104\n",
      "74435             310          1748            60133\n",
      "\n",
      "[74436 rows x 3 columns]\n"
     ]
    },
    {
     "data": {
      "image/png": "[encoded data removed]",
      "text/plain": [
       "<Figure size 720x720 with 1 Axes>"
      ]
     },
     "metadata": {
      "needs_background": "light"
     },
     "output_type": "display_data"
    }
   ],
   "source": [
    "import matplotlib.pyplot as plt\n",
    "\n",
    "\n",
    "\n",
    "fig = plt.figure(figsize =(10, 10))\n",
    "\n",
    "print(data_int)\n",
    "plt.boxplot(data_int, labels = [\"user_followers\", \"user_friends\", \"user_favourites\"])\n",
    "plt.show()"
   ]
  },
  {
   "cell_type": "markdown",
   "id": "73ee9d69",
   "metadata": {},
   "source": [
    "#### 4. Basándose en la media, mediana y desviación estándar de cada variable, ¿Qué conclusiones puedes entregar de los datos?"
   ]
  },
  {
   "cell_type": "markdown",
   "id": "fc2af505",
   "metadata": {},
   "source": [
    "El caso de user_followers es el más notorio respecto a la dispersión en sus datos. Esto se puede notar a primera vista en el gráfico.  También se puede notar por su valor de la desviación estandar, que es la mayor entre todas las variables. Si se compara, asimismo, su mediana (960) y su media (105951.312913) también se puede observar esta disparidad. Esto puede haber sido ocasionado por unos cuantos casos en los que los tweets son publicados por cuentas con gran cantidad de seguidores. Por ejemplo, la cuenta con más seguidores de este data frame es CGTN, una cuenta de noticias china, que tiene más de 13 millones de seguidores, mientras que, al menos la mitad, como indica la mediana, no rebasa los 960 seguidores.\n",
    "\n",
    "Respecto a user_friends, ésta tiene la menor desviación estandar entre todas las variables. Esto puede deberse a que, a diferencia de user_followers, es lógico que la gran mayoría de las usuarios no siga una cantidad tan masiva de cuentas. En user_friends el máximo tiene un valor de 497363, que es de un usuario llamado @tim_fargo, y en user_followers el máximo es de más de 13 millones.\n",
    "\n",
    "Por último, user_favourites se encuentra en el medio en lo que respecta a su desviación estandar, que tiene un valor de 46689.71. La gran mayooría de usuarios, según indica la mediana, tien alrededor de 1927 tweets en favoritos, mientras que hay una menor cantidad de usarios que, tal vez debido a que utilizan más la aplicación, hacen que la media de user_favourites sea de 15297.47."
   ]
  }
 ],
 "metadata": {
  "kernelspec": {
   "display_name": "Python 3 (ipykernel)",
   "language": "python",
   "name": "python3"
  },
  "language_info": {
   "codemirror_mode": {
    "name": "ipython",
    "version": 3
   },
   "file_extension": ".py",
   "mimetype": "text/x-python",
   "name": "python",
   "nbconvert_exporter": "python",
   "pygments_lexer": "ipython3",
   "version": "3.9.12"
  }
 },
 "nbformat": 4,
 "nbformat_minor": 5
}
