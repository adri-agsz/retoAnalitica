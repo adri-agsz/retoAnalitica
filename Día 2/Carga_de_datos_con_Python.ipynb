{
 "cells": [
  {
   "cell_type": "markdown",
   "id": "c88134ea",
   "metadata": {},
   "source": [
    "# Carga de datos con Python"
   ]
  },
  {
   "cell_type": "code",
   "execution_count": 8,
   "id": "4714f340",
   "metadata": {},
   "outputs": [
    {
     "name": "stdout",
     "output_type": "stream",
     "text": [
      "Número de objetos: 18249\n",
      "Valor de la variable 2 del objeto 15: 1.33\n",
      "Valor máximo de la variable 3: 62505646.52\n",
      "Valor mínimo de la variable 3: 84.56\n"
     ]
    }
   ],
   "source": [
    "def leerExcel(archivo):\n",
    "    import csv\n",
    "    filas = []\n",
    "    with open(archivo, 'r') as file:\n",
    "        leer = csv.reader(file)\n",
    "        for lista in leer:\n",
    "            filas.append(lista)\n",
    "    return filas\n",
    "\n",
    "archivo = \"avocado.csv\"\n",
    "filas = leerExcel(archivo)\n",
    "\n",
    "#PREGUNTAS\n",
    "\n",
    "# 1- ¿Cuántos objetos hay?\n",
    "filas.pop(0) #Se elimina la columna 0 para no contar los nombres de las variables o columnas.\n",
    "print(\"Número de objetos:\", len(filas))\n",
    "\n",
    "\n",
    "# 2- ¿Cuál es el valor de la variable 2 del objeto 15?\n",
    "print(\"Valor de la variable 2 del objeto 15:\", filas [14][2])\n",
    "\n",
    "\n",
    "# 3- ¿Cuál es el mínimo y máximo de la variable 3?\n",
    "variable3 = [fila[3] for fila in filas] #Se obtiene solo la columna 3\n",
    "variable3 = [float(item) for item in variable3] #Se convierte la lista de string a flotante\n",
    "\n",
    "max_value = max(variable3)\n",
    "print(\"Valor máximo de la variable 3:\", max_value)\n",
    "\n",
    "min_value = min(variable3)\n",
    "print(\"Valor mínimo de la variable 3:\", min_value)"
   ]
  }
 ],
 "metadata": {
  "kernelspec": {
   "display_name": "Python 3 (ipykernel)",
   "language": "python",
   "name": "python3"
  },
  "language_info": {
   "codemirror_mode": {
    "name": "ipython",
    "version": 3
   },
   "file_extension": ".py",
   "mimetype": "text/x-python",
   "name": "python",
   "nbconvert_exporter": "python",
   "pygments_lexer": "ipython3",
   "version": "3.9.12"
  }
 },
 "nbformat": 4,
 "nbformat_minor": 5
}
