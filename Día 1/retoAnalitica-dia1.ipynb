{
 "cells": [
  {
   "cell_type": "code",
   "execution_count": 64,
   "id": "807dc621",
   "metadata": {},
   "outputs": [
    {
     "name": "stdout",
     "output_type": "stream",
     "text": [
      "[2, 3, 5, 7, 11, 13, 17, 19, 23, 29, 31, 37, 41, 43, 47, 53, 59, 61, 67, 71, 73, 79, 83, 89, 97]\n"
     ]
    }
   ],
   "source": [
    "\n",
    "def findPrimes(n):\n",
    "    primos = []\n",
    "    for i in range(2, n+1):\n",
    "        primo = True\n",
    "        for j in range(2, i):\n",
    "            if i % j == 0 and i != j:\n",
    "                primo = False\n",
    "                break\n",
    "\n",
    "        if primo == True:\n",
    "            primos.append(i)\n",
    "\n",
    "    return primos\n",
    "\n",
    "\n",
    "    \n",
    "p = findPrimes(100)   \n",
    "print(p)"
   ]
  },
  {
   "cell_type": "code",
   "execution_count": 65,
   "id": "e5d99d5b",
   "metadata": {},
   "outputs": [
    {
     "name": "stdout",
     "output_type": "stream",
     "text": [
      "a =  [1.2, 3.7, -0.25]\n",
      "b =  [-0.1, -2.0, 7]\n",
      "a x b =  [25.400000000000002, -8.375, -2.03]\n"
     ]
    }
   ],
   "source": [
    "def cross(a, b):\n",
    "    c = []\n",
    "    c.append(a[1]*b[2] - a[2]*b[1])\n",
    "    c.append(a[2]*b[0] - a[0]*b[2])\n",
    "    c.append(a[0]*b[1] - a[1]*b[0])\n",
    "    return c\n",
    "\n",
    "x = [1.2, 3.7, -0.25]\n",
    "y = [-.1, -2.0, 7]\n",
    "\n",
    "cr = cross(x, y)\n",
    "print(\"a = \", x)\n",
    "print(\"b = \", y)\n",
    "print(\"a x b = \", cr)\n"
   ]
  },
  {
   "cell_type": "code",
   "execution_count": 71,
   "id": "842e968c",
   "metadata": {},
   "outputs": [
    {
     "name": "stdout",
     "output_type": "stream",
     "text": [
      "[['1.2', '3.7', '-0.25'], ['-0.1', '-2', '7']]\n",
      "a =  [1.2, 3.7, -0.25]\n",
      "b =  [-0.1, -2.0, 7.0]\n",
      "a x b =  [25.400000000000002, -8.375, -2.03]\n"
     ]
    }
   ],
   "source": [
    "import csv\n",
    "filas = []\n",
    "with open(\"vectors.csv\", 'r') as file:\n",
    "    csvr = csv.reader(file)\n",
    "    for row in csvr:\n",
    "        filas.append(row)\n",
    "print(filas)\n",
    "\n",
    "x = [float(filas[0][0]),float(filas[0][1]), float(filas[0][2])]\n",
    "y = [float(filas[1][0]),float(filas[1][1]), float(filas[1][2])]\n",
    "\n",
    "cr = cross(x, y)\n",
    "print(\"a = \", x)\n",
    "print(\"b = \", y)\n",
    "print(\"a x b = \", cr)"
   ]
  },
  {
   "cell_type": "code",
   "execution_count": null,
   "id": "17c459c6",
   "metadata": {},
   "outputs": [],
   "source": []
  },
  {
   "cell_type": "code",
   "execution_count": null,
   "id": "e2335f31",
   "metadata": {},
   "outputs": [],
   "source": []
  }
 ],
 "metadata": {
  "kernelspec": {
   "display_name": "Python 3 (ipykernel)",
   "language": "python",
   "name": "python3"
  },
  "language_info": {
   "codemirror_mode": {
    "name": "ipython",
    "version": 3
   },
   "file_extension": ".py",
   "mimetype": "text/x-python",
   "name": "python",
   "nbconvert_exporter": "python",
   "pygments_lexer": "ipython3",
   "version": "3.9.12"
  }
 },
 "nbformat": 4,
 "nbformat_minor": 5
}
